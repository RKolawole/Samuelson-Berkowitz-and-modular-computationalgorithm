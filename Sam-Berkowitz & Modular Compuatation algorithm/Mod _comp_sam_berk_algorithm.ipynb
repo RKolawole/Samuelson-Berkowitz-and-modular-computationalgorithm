{
 "cells": [
  {
   "cell_type": "markdown",
   "metadata": {},
   "source": [
    "<h1 style=\"color:magenta\"><strong> Razak Olamide, KOLAWOLE"
   ]
  },
  {
   "cell_type": "markdown",
   "metadata": {},
   "source": [
    "This project consider two algorithms, first, a modular computation algorithm for calculating the determinant of square matrices with integers coefficients.\n",
    "\n",
    "The second, a divison-free algorithm for obtaining the characteristics polynomial and the determinant of square matrices whose coefficients are in a unital commutative ring $\\mathcal{R}$ which is not an integral domain. "
   ]
  },
  {
   "cell_type": "markdown",
   "metadata": {},
   "source": [
    "<h1 style=\"color:blue\"><strong> Modular Computation Algorithm\n",
    "    "
   ]
  },
  {
   "cell_type": "markdown",
   "metadata": {},
   "source": [
    "![purple-divider](https://user-images.githubusercontent.com/7065401/52071927-c1cd7100-2562-11e9-908a-dde91ba14e59.png)"
   ]
  },
  {
   "cell_type": "markdown",
   "metadata": {},
   "source": [
    "\n",
    "Modular computation algorithm is a method centred around the methods of\n",
    "division-free algorithm and fast algorithm like Gaussian elimination method.\n",
    "\n",
    "For more info on this method check this book by Przemysław Koprowski: [lcm](http://www.pkoprowski.eu/lcm/lcm.pdf)"
   ]
  },
  {
   "cell_type": "markdown",
   "metadata": {},
   "source": [
    "This method compute the determinant of integral matrices using the following precedures\n",
    "1. We define a function for finding the Hadamard bound of a matrix\n",
    "* Trust me you need to input the integral matrix of your choice immediately after this       function in step 1.\n",
    "2. We define a function that ask you how many primes you want to complete task at hand.\n",
    "* The reason is simply because Modular compuatation algorithm is fast with less primes.\n",
    "\n",
    "3. We define a function for finding the determinants of a matrix\n",
    "* Guassian elimination method (GEM) for finite field (Galois field)\n",
    "\n",
    "4. We use an in-built function for solving linear congruence equation (Chinese remainder    theorem) to solve the sytem of congruence equations obtained after step 1\n",
    "\n",
    "5. Finally, we define the main function in two categories:\n",
    "\n",
    "\n",
    "<p style=\"color:red\"><strong> It is worth stating that our algorithm only works on matrices with integer coefficients"
   ]
  },
  {
   "cell_type": "markdown",
   "metadata": {},
   "source": [
    "![green-divider](https://user-images.githubusercontent.com/7065401/52071924-c003ad80-2562-11e9-8297-1c6595f8a7ff.png)"
   ]
  },
  {
   "cell_type": "markdown",
   "metadata": {},
   "source": [
    "<h1 style=\"color:orange\"><strong> Hadamard bound function "
   ]
  },
  {
   "cell_type": "code",
   "execution_count": 7,
   "metadata": {},
   "outputs": [],
   "source": [
    "def det_bound(G):\n",
    "    \"\"\"\n",
    "    Compute the hadarmad of a matrix using.\n",
    "\n",
    "    Parameters:\n",
    "        - G: Square matrix\n",
    "\n",
    "    Returns:\n",
    "        - Hadamard bound\n",
    "    \"\"\"\n",
    "    # Ensure matrix coefficients are integers\n",
    "    for i in range(G.nrows()):\n",
    "        for j in range(G.ncols()):\n",
    "            assert G[i, j] in ZZ, \"Matrix coefficients must be integers\"\n",
    "\n",
    "    n = G.nrows()  # number of rows of the matrix\n",
    "\n",
    "    # Step 1: Find the Hadamard bound C\n",
    "    B = max(abs(G[i, j]) for i in range(n) for j in range(n))\n",
    "    Hadamard_bound = 2 * B**n * sqrt(n**n)\n",
    "    return Hadamard_bound\n"
   ]
  },
  {
   "cell_type": "markdown",
   "metadata": {},
   "source": [
    "<h1 style=\"color:blue\"><strong> Example 1"
   ]
  },
  {
   "cell_type": "markdown",
   "metadata": {},
   "source": [
    "## Provide us with a matrix with integer coefficients so that we can compute the bound needed in the next step"
   ]
  },
  {
   "cell_type": "code",
   "execution_count": 8,
   "metadata": {},
   "outputs": [
    {
     "data": {
      "text/plain": [
       "369779250*sqrt(3)"
      ]
     },
     "execution_count": 8,
     "metadata": {},
     "output_type": "execute_result"
    }
   ],
   "source": [
    "G = Matrix([[13, 271, 395], [43, 5, 62], [77, 84, 99]])\n",
    "result= det_bound(G)\n",
    "result"
   ]
  },
  {
   "cell_type": "markdown",
   "metadata": {},
   "source": [
    "<h1 style=\"color:orange\"><strong> Number of primes you want"
   ]
  },
  {
   "cell_type": "code",
   "execution_count": 9,
   "metadata": {},
   "outputs": [],
   "source": [
    "\n",
    "def generate_primes_with_product_exceeding(n, min_product):\n",
    "    \"\"\"\n",
    "    Generate a list of prime numbers of length n whose product exceeds min_product.\n",
    "\n",
    "    Parameters:\n",
    "    - n: Desired length of the list of primes\n",
    "    - max_product: The minimum product of the primes\n",
    "\n",
    "    Returns:\n",
    "    - List of n prime numbers whose product exceeds max_product\n",
    "    \"\"\"\n",
    "    primes = []\n",
    "    current_prime = 3  # Start with the first prime number\n",
    "    product = 1\n",
    "\n",
    "    while len(primes) < n:\n",
    "        if is_prime(current_prime):\n",
    "            primes.append(current_prime)\n",
    "            product *= current_prime\n",
    "        current_prime = next_prime(current_prime)\n",
    "    \n",
    "    # After ensuring the length, check the product\n",
    "    if product <= min_product:\n",
    "        while product <= min_product:\n",
    "            current_prime = next_prime(current_prime)\n",
    "            if is_prime(current_prime):\n",
    "                primes.append(current_prime)\n",
    "                product *= current_prime\n",
    "                primes.pop(0)\n",
    "                product //= primes[0]\n",
    "\n",
    "    return primes\n"
   ]
  },
  {
   "cell_type": "markdown",
   "metadata": {},
   "source": [
    "# Provide us with the number of primes you want to use"
   ]
  },
  {
   "cell_type": "code",
   "execution_count": 10,
   "metadata": {},
   "outputs": [
    {
     "name": "stdout",
     "output_type": "stream",
     "text": [
      "List of primes: [593, 599, 601, 607]\n"
     ]
    }
   ],
   "source": [
    "# Example usage\n",
    "n = 4  # Desired length of the list of primes\n",
    "min_product = ceil(result)  # Minimum product of the primes\n",
    "my_primes_list = generate_primes_with_product_exceeding(n, min_product)\n",
    "\n",
    "print(\"List of primes:\", my_primes_list)\n",
    "#print(\"Product of primes:\", eval('*'.join(map(str, primes_list))))\n"
   ]
  },
  {
   "cell_type": "markdown",
   "metadata": {},
   "source": [
    "<h1 style=\"color:orange\"><strong> Gaussian Elimination algorithm for finite fields"
   ]
  },
  {
   "cell_type": "code",
   "execution_count": 11,
   "metadata": {},
   "outputs": [],
   "source": [
    "def gaussian_elimination_det(M, p):\n",
    "    \"\"\"\n",
    "    Compute the determinant of a matrix using Gaussian elimination modulo p.\n",
    "\n",
    "    Parameters:\n",
    "        - M: Square matrix\n",
    "        - p: Prime number for modulus\n",
    "\n",
    "    Returns:\n",
    "        - det: Determinant of the matrix modulo p\n",
    "    \"\"\"\n",
    "    M = M.change_ring(ZZ)  # Create a mutable copy of the matrix\n",
    "    n = M.nrows()\n",
    "    det = 1\n",
    "\n",
    "    for i in range(n):\n",
    "        # Find the pivot\n",
    "        pivot = i\n",
    "        while pivot < n and M[pivot, i] % p == 0:\n",
    "            pivot += 1\n",
    "        if pivot == n:\n",
    "            return 0  # Matrix is singular\n",
    "\n",
    "        if pivot != i:\n",
    "            # Swap rows\n",
    "            M.swap_rows(i, pivot)\n",
    "            det = -det % p\n",
    "\n",
    "        # Multiply determinant by the pivot element\n",
    "        det = (det * M[i, i]) % p\n",
    "\n",
    "        # Normalize the pivot row\n",
    "        inv_pivot = pow(M[i, i], -1, p)  # Modular inverse of the pivot element\n",
    "        for j in range(i, n):\n",
    "            M[i, j] = (M[i, j] * inv_pivot) % p\n",
    "\n",
    "        # Eliminate below\n",
    "        for j in range(i + 1, n):\n",
    "            factor = M[j, i]\n",
    "            for k in range(i, n):\n",
    "                M[j, k] = (M[j, k] - factor * M[i, k]) % p\n",
    "\n",
    "    return det"
   ]
  },
  {
   "cell_type": "markdown",
   "metadata": {},
   "source": [
    "<h1 style=\"color:orange\"><strong> Main function (Modular Compuatation Algorithm) "
   ]
  },
  {
   "cell_type": "code",
   "execution_count": 22,
   "metadata": {},
   "outputs": [
    {
     "name": "stdout",
     "output_type": "stream",
     "text": [
      "Determinant: 180\n",
      "Execution time: 0.0014200210571289062\n"
     ]
    }
   ],
   "source": [
    "import time\n",
    "def modular_algorithm_for_determinant(G):\n",
    "    \"\"\"\n",
    "    Compute the determinant of a matrix using modular arithmetic.\n",
    "\n",
    "    Parameters:\n",
    "        - M: Square matrix\n",
    "\n",
    "    Returns:\n",
    "        - det_mod: Determinant modulo the product of primes\n",
    "    \"\"\"\n",
    "   \n",
    "    # Step 3: Compute determinants mod each prime\n",
    "    product_of_primes=prod(my_primes_list)\n",
    "    modular_dets = []\n",
    "    for p in my_primes_list:\n",
    "        M_mod_p = M.apply_map(lambda x: x % p)\n",
    "        det_mod_p = gaussian_elimination_det(M_mod_p, p) % p\n",
    "        modular_dets.append(det_mod_p)\n",
    "\n",
    "    # Step 4: Use the Chinese Remainder Theorem to find the determinant\n",
    "    det_mod = crt(modular_dets, my_primes_list)\n",
    "\n",
    "    # Step 5: Adjust the determinant if necessary\n",
    "    if det_mod > product_of_primes / 2:\n",
    "        det_mod -= product_of_primes\n",
    "\n",
    "    return det_mod\n",
    "\n",
    "\n",
    "start_time = time.time()\n",
    "det = modular_algorithm_for_determinant(M)\n",
    "end_time = time.time()\n",
    "\n",
    "print(\"Determinant:\", det)\n",
    "print(\"Execution time:\", end_time - start_time)\n",
    "\n"
   ]
  },
  {
   "cell_type": "code",
   "execution_count": null,
   "metadata": {},
   "outputs": [],
   "source": []
  },
  {
   "cell_type": "markdown",
   "metadata": {},
   "source": [
    "<h1 style=\"color:blue\"><strong> Example 2"
   ]
  },
  {
   "cell_type": "code",
   "execution_count": 13,
   "metadata": {},
   "outputs": [
    {
     "name": "stdout",
     "output_type": "stream",
     "text": [
      "Determinant: 90\n",
      "Execution time: 0.004378795623779297\n"
     ]
    }
   ],
   "source": [
    "M=matrix([[9,2,1],[5,-1,6],[4,0,-2]])\n",
    "result= det_bound(M)\n",
    "n = 4  # Desired length of the list of primes\n",
    "min_product = ceil(result)  # Minimum product of the primes\n",
    "my_primes_list = generate_primes_with_product_exceeding(n, min_product)\n",
    "start_time = time.time()\n",
    "det = modular_algorithm_for_determinant(M)\n",
    "end_time = time.time()\n",
    "\n",
    "print(\"Determinant:\", det)\n",
    "print(\"Execution time:\", end_time - start_time)\n",
    "\n"
   ]
  },
  {
   "cell_type": "markdown",
   "metadata": {},
   "source": [
    "![green-divider](https://user-images.githubusercontent.com/7065401/52071924-c003ad80-2562-11e9-8297-1c6595f8a7ff.png)\n"
   ]
  },
  {
   "cell_type": "markdown",
   "metadata": {},
   "source": [
    "<h1 style=\"color:blue\"><strong> Example 3"
   ]
  },
  {
   "cell_type": "code",
   "execution_count": 25,
   "metadata": {},
   "outputs": [
    {
     "name": "stdout",
     "output_type": "stream",
     "text": [
      "Determinant: 180\n",
      "Execution time: 0.00036597251892089844\n"
     ]
    }
   ],
   "source": [
    "# For Example \n",
    "G = Matrix([[3, 1, -2], [2, -3, -1], [1, 3, 0]])\n",
    "result= det_bound(G)\n",
    "n = 2  # Desired length of the list of primes\n",
    "min_product = ceil(result)  # Minimum product of the primes\n",
    "my_primes_list = generate_primes_with_product_exceeding(n, min_product)\n",
    "start_time = time.time()\n",
    "det = modular_algorithm_for_determinant(G)\n",
    "end_time = time.time()\n",
    "\n",
    "print(\"Determinant:\", det)\n",
    "print(\"Execution time:\", end_time - start_time)\n"
   ]
  },
  {
   "cell_type": "markdown",
   "metadata": {},
   "source": [
    "<h1 style=\"color:blue\"><strong> Compare the time of the same problem"
   ]
  },
  {
   "cell_type": "code",
   "execution_count": 26,
   "metadata": {},
   "outputs": [
    {
     "name": "stdout",
     "output_type": "stream",
     "text": [
      "Determinant: 180\n",
      "Execution time: 0.0005717277526855469\n"
     ]
    }
   ],
   "source": [
    "# For Example \n",
    "G = Matrix([[3, 1, -2], [2, -3, -1], [1, 3, 0]])\n",
    "result= det_bound(G)\n",
    "n = 4  # Desired length of the list of primes\n",
    "min_product = ceil(result)  # Minimum product of the primes\n",
    "my_primes_list = generate_primes_with_product_exceeding(n, min_product)\n",
    "start_time = time.time()\n",
    "det = modular_algorithm_for_determinant(G)\n",
    "end_time = time.time()\n",
    "\n",
    "print(\"Determinant:\", det)\n",
    "print(\"Execution time:\", end_time - start_time)\n"
   ]
  },
  {
   "cell_type": "markdown",
   "metadata": {},
   "source": [
    "<h1 style=\"color:red\"><strong> Findings:\n"
   ]
  },
  {
   "cell_type": "markdown",
   "metadata": {},
   "source": [
    "* Modular computation algorithm is indeed a fast computation algorithm because of it's reliance on division algorithm i.e. Guassian elimination method\n",
    "\n",
    "* if we know a priori the primes required to perform this task we are many steps ahed of     our pairs\n",
    "\n",
    "* The smaller the number of primes used the more beautiful and less time consuming our        computations."
   ]
  },
  {
   "cell_type": "markdown",
   "metadata": {},
   "source": [
    "![purple-divider](https://user-images.githubusercontent.com/7065401/52071927-c1cd7100-2562-11e9-908a-dde91ba14e59.png)"
   ]
  },
  {
   "cell_type": "markdown",
   "metadata": {},
   "source": [
    "<h1 style=\"color:blue\"><strong> Samuelson Berkowitz algorithm"
   ]
  },
  {
   "cell_type": "markdown",
   "metadata": {},
   "source": [
    "Samuelson Berkowitz algorithm is a divison-free algorithm for\n",
    "obtaining the characteristics polynomial and the determinant of square matrices\n",
    "whose coefficients are in a commutative ring $\\mathcal{R}$ which is not an integral domain\n",
    "\n",
    "* Toeplitz matrix is a very useful tool in this algorithm, so we first define a function that calculate the Toeplitz matrix of any square matrix which we would like to obtain its determinant and characteristics polynomial\n",
    "\n",
    "* The advantage of Samuelson Berkowitz algorithm is that it can be used even when our domain of interest is not a field\n",
    "\n",
    "For more info on this method check this book by Przemysław Koprowski: [lcm](http://www.pkoprowski.eu/lcm/lcm.pdf)"
   ]
  },
  {
   "cell_type": "code",
   "execution_count": 16,
   "metadata": {},
   "outputs": [],
   "source": [
    "def toeplitz_matrix(M, k):\n",
    "    \n",
    "    \"\"\"\n",
    "    Compute the Toeplitz matrix of a square matrix.\n",
    "\n",
    "    Parameters:\n",
    "        - M: Square matrix\n",
    "\n",
    "    Returns:\n",
    "        - (n+2)x(n+1) Toeplitz matrix\n",
    "    \"\"\"\n",
    "    \n",
    "    # M_k is the kxk principal submatrix of M\n",
    "    M_k = M.submatrix(0, 0, k, k)\n",
    "    R_k = M[k, :k]  # Row vector below M_k\n",
    "    C_k = M[:k, k]  # Column vector to the right of M_k\n",
    "    m_kk = M[k, k]  # The element m_{k+1, k+1}\n",
    "    \n",
    "    # Initialize the Toeplitz matrix with -m_kk on the diagonal\n",
    "    T_k = matrix(SR, k+2, k+1, lambda i, j: -m_kk if i == j else 0)\n",
    "    \n",
    "    # The first sub-diagonal is set to 1\n",
    "    for i in [1, .., k+1]:\n",
    "        T_k[i, i-1] = 1\n",
    "    \n",
    "    # Calculate the upper diagonal elements in T_k\n",
    "    for i in [0, .., k]:  # loop over rows in T_k\n",
    "        for j in [i+1, .., k]:  # loop over columns above the diagonal\n",
    "            if j > i:\n",
    "                # Calculate M_k to the power (j-i-1)\n",
    "                if j-i-1 == 0:\n",
    "                    M_k_i = matrix.identity(k)  # (M_k)^0 is the identity matrix\n",
    "                else:\n",
    "                    M_k_i = M_k^(j-i-1)  # M_k raised to the power (j-i-1)\n",
    "                \n",
    "                # Calculate -R_k * M_k_i * C_k for the respective entry and ensure scalar output\n",
    "                tk = -R_k * M_k_i * vector(C_k)\n",
    "                T_k[i, j] = tk[0]  # Extract the scalar value from the 1x1 matrix/product\n",
    "                \n",
    "    return T_k\n",
    "\n"
   ]
  },
  {
   "cell_type": "code",
   "execution_count": 17,
   "metadata": {},
   "outputs": [],
   "source": [
    "def Samuelson_Berkowitz(M):\n",
    "    \"\"\"\n",
    "    Compute the Characteristics Polynomial and the determinant of a matrix using Samuelson Identity.\n",
    "    (determinant is the constant term in the characteristics polynomial)\n",
    "\n",
    "    Parameters:\n",
    "        - M: Square matrix with coefficients in any unital commutative ring R\n",
    "\n",
    "    Returns:\n",
    "        - Determinant and Characteristics Polynomial of a Square Matrix\n",
    "    \"\"\"\n",
    "    n = M.ncols()  # find the number of column of the matrix M\n",
    "    v = [-M[0][0], 1] #initialise column vector V with a value from M\n",
    "    V = matrix(SR, 2, 1, v)\n",
    "    v_vectors = []  #create a list\n",
    "    for k in [1, .., n-1]:\n",
    "        t_k = toeplitz_matrix(M, k)\n",
    "        V1 = t_k * V  # Multiply current Toeplitz matrix by current vector V    \n",
    "        # Update V to new V1\n",
    "        V = V1 \n",
    "        v_vectors.append(V)\n",
    "        tk_matrices = r\"T_{} = \".format(k) # This initializes tk_matrices as a string containing the prefix \"T_k\" \n",
    "    P.<x> = ZZ[]\n",
    "    S = list(vector(v_vectors[-1])) # this create a column vector using the toeplitz matrix\n",
    "    char_poly = P(S)   # create the characteristics \n",
    "    determinant = (-1)^n * S[0]  # the constant term of the polynomial\n",
    "    return determinant, char_poly\n",
    "\n"
   ]
  },
  {
   "cell_type": "markdown",
   "metadata": {},
   "source": [
    "<h1 style=\"color:blue\"><strong> Example 4"
   ]
  },
  {
   "cell_type": "code",
   "execution_count": 18,
   "metadata": {},
   "outputs": [
    {
     "data": {
      "text/html": [
       "<html>\\(\\displaystyle \\verb|The|\\verb| |\\verb|determinant:| 1\\)</html>"
      ],
      "text/latex": [
       "$\\displaystyle \\verb|The|\\verb| |\\verb|determinant:| 1$"
      ],
      "text/plain": [
       "'The determinant:' 1"
      ]
     },
     "metadata": {},
     "output_type": "display_data"
    },
    {
     "data": {
      "text/html": [
       "<html>\\(\\displaystyle Characteristics Polynomial:  x^{3} - 3x^{2} + 3x - 1\\)</html>"
      ],
      "text/latex": [
       "$\\displaystyle Characteristics Polynomial:  x^{3} - 3x^{2} + 3x - 1$"
      ],
      "text/plain": [
       "Characteristics Polynomial:  x^3 - 3*x^2 + 3*x - 1"
      ]
     },
     "metadata": {},
     "output_type": "display_data"
    }
   ],
   "source": [
    "# Define the matrix\n",
    "M = matrix(ZZ, [[1, 0, 0], [0, 1, 0], [0, 0, 1]])\n",
    "determinant, char_poly = Samuelson_Berkowitz(M)\n",
    "show('The determinant:', determinant)\n",
    "ola = r\"Characteristics Polynomial: \"\n",
    "show(LatexExpr(ola), char_poly)"
   ]
  },
  {
   "cell_type": "markdown",
   "metadata": {},
   "source": [
    "<h1 style=\"color:blue\"><strong> Example 5"
   ]
  },
  {
   "cell_type": "code",
   "execution_count": 19,
   "metadata": {},
   "outputs": [
    {
     "data": {
      "text/html": [
       "<html>\\(\\displaystyle \\verb|The|\\verb| |\\verb|determinant:| 180\\)</html>"
      ],
      "text/latex": [
       "$\\displaystyle \\verb|The|\\verb| |\\verb|determinant:| 180$"
      ],
      "text/plain": [
       "'The determinant:' 180"
      ]
     },
     "metadata": {},
     "output_type": "display_data"
    },
    {
     "data": {
      "text/html": [
       "<html>\\(\\displaystyle Characteristics Polynomial:  x^{3} + 11x^{2} + 2x - 180\\)</html>"
      ],
      "text/latex": [
       "$\\displaystyle Characteristics Polynomial:  x^{3} + 11x^{2} + 2x - 180$"
      ],
      "text/plain": [
       "Characteristics Polynomial:  x^3 + 11*x^2 + 2*x - 180"
      ]
     },
     "metadata": {},
     "output_type": "display_data"
    }
   ],
   "source": [
    "M=matrix(ZZ, [[2,1,3],[5,-7,1],[3,0,-6]])\n",
    "determinant, char_poly = Samuelson_Berkowitz(M)\n",
    "show('The determinant:', determinant)\n",
    "ola = r\"Characteristics Polynomial: \"\n",
    "show(LatexExpr(ola), char_poly)"
   ]
  },
  {
   "cell_type": "markdown",
   "metadata": {},
   "source": [
    "![green-divider](https://user-images.githubusercontent.com/7065401/52071924-c003ad80-2562-11e9-8297-1c6595f8a7ff.png)\n"
   ]
  },
  {
   "cell_type": "markdown",
   "metadata": {},
   "source": [
    "<h1 style=\"color:blue\"><strong> Comparing our result with the result of the in-buit function"
   ]
  },
  {
   "cell_type": "code",
   "execution_count": 20,
   "metadata": {},
   "outputs": [
    {
     "data": {
      "text/plain": [
       "True"
      ]
     },
     "execution_count": 20,
     "metadata": {},
     "output_type": "execute_result"
    }
   ],
   "source": [
    "char_poly == M.charpoly()"
   ]
  },
  {
   "cell_type": "code",
   "execution_count": 21,
   "metadata": {
    "scrolled": true
   },
   "outputs": [
    {
     "data": {
      "text/plain": [
       "180 == 180"
      ]
     },
     "execution_count": 21,
     "metadata": {},
     "output_type": "execute_result"
    }
   ],
   "source": [
    "determinant == M.det()"
   ]
  },
  {
   "cell_type": "markdown",
   "metadata": {},
   "source": [
    "# Findings:\n",
    "\n",
    "* The Samuelson-Berkowitz algorithm works well with matrices with coefficients in any unital commutative ring $\\mathcal{R}$.\n",
    "\n",
    "* It's slow just as was explained in the literature review\n",
    "\n",
    "* It relies on the Samuelson Identity\n",
    "\n",
    "* The Toeplitz matrix makes the computation very easy\n"
   ]
  },
  {
   "cell_type": "markdown",
   "metadata": {},
   "source": [
    "<h1 style=\"color:blue\"><strong> Thank you so much"
   ]
  },
  {
   "cell_type": "markdown",
   "metadata": {},
   "source": [
    "![purple-divider](https://user-images.githubusercontent.com/7065401/52071927-c1cd7100-2562-11e9-908a-dde91ba14e59.png)"
   ]
  },
  {
   "cell_type": "markdown",
   "metadata": {},
   "source": [
    "Dear readers, I implore you to read this book by Przemysław Koprowski : [lcm](http://www.pkoprowski.eu/lcm/lcm.pdf) \\\n",
    "You will really enjoy it, because It's the best of its kind."
   ]
  },
  {
   "cell_type": "code",
   "execution_count": null,
   "metadata": {},
   "outputs": [],
   "source": []
  },
  {
   "cell_type": "code",
   "execution_count": null,
   "metadata": {},
   "outputs": [],
   "source": []
  }
 ],
 "metadata": {
  "kernelspec": {
   "display_name": "SageMath 10.0",
   "language": "sage",
   "name": "sagemath-10.0"
  },
  "language_info": {
   "codemirror_mode": {
    "name": "ipython",
    "version": 3
   },
   "file_extension": ".py",
   "mimetype": "text/x-python",
   "name": "python",
   "nbconvert_exporter": "python",
   "pygments_lexer": "ipython3",
   "version": "3.11.1"
  }
 },
 "nbformat": 4,
 "nbformat_minor": 4
}
